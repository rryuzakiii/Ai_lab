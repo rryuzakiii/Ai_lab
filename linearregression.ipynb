{
 "cells": [
  {
   "cell_type": "code",
   "execution_count": 8,
   "metadata": {},
   "outputs": [],
   "source": [
    "import numpy as np"
   ]
  },
  {
   "cell_type": "code",
   "execution_count": 9,
   "metadata": {},
   "outputs": [],
   "source": [
    "class Linear:\n",
    "    def __init__(self,learning_rate):\n",
    "        self.m = 0\n",
    "        self.c = 0\n",
    "        self.alpha = learning_rate\n",
    "    \n",
    "    def mean(y_predict , y_real ):\n",
    "        return(1/len(y_real)*np.sum(y_predict-y_real)**2)\n",
    "    \n",
    "    def predict(self, x):\n",
    "        return self.m * x + self.c\n",
    "\n",
    "    \n",
    "    def partial(self,x,y):\n",
    "        dm =(2/len(x) * np.sum((self.predict(x) - y)*x))\n",
    "        db =(2/len(y)*np.sum((self.predict(x) - y)*1))\n",
    "        return (dm,db)\n",
    "    \n",
    "    def fit(self,x,y):\n",
    "        for i in range (10000):\n",
    "\n",
    "            y_predict = self.predict(x)\n",
    "\n",
    "            dm ,db =self.partial(x,y)\n",
    "            self.m -= self.alpha * dm\n",
    "            self.c -= self.alpha * db\n",
    "\n",
    "    def printm(self):\n",
    "        print(self.m)\n",
    "        print(type (self.m))"
   ]
  },
  {
   "cell_type": "code",
   "execution_count": 10,
   "metadata": {},
   "outputs": [],
   "source": [
    "x=np.array ([1,2,3,4,5,6,7])\n",
    "y=9 *x +232"
   ]
  },
  {
   "cell_type": "code",
   "execution_count": 20,
   "metadata": {},
   "outputs": [],
   "source": [
    "model = Linear(0.003)"
   ]
  },
  {
   "cell_type": "code",
   "execution_count": 21,
   "metadata": {},
   "outputs": [],
   "source": [
    "model.fit (x,y)"
   ]
  },
  {
   "cell_type": "code",
   "execution_count": 22,
   "metadata": {},
   "outputs": [
    {
     "name": "stdout",
     "output_type": "stream",
     "text": [
      "39.00757315971\n",
      "<class 'numpy.float64'>\n"
     ]
    },
    {
     "data": {
      "text/plain": [
       "np.float64(10.518452279069795)"
      ]
     },
     "execution_count": 22,
     "metadata": {},
     "output_type": "execute_result"
    }
   ],
   "source": [
    "model.printm()\n",
    "model.predict(0)"
   ]
  },
  {
   "cell_type": "code",
   "execution_count": null,
   "metadata": {},
   "outputs": [],
   "source": []
  }
 ],
 "metadata": {
  "kernelspec": {
   "display_name": "VENV",
   "language": "python",
   "name": "python3"
  },
  "language_info": {
   "codemirror_mode": {
    "name": "ipython",
    "version": 3
   },
   "file_extension": ".py",
   "mimetype": "text/x-python",
   "name": "python",
   "nbconvert_exporter": "python",
   "pygments_lexer": "ipython3",
   "version": "3.12.4"
  }
 },
 "nbformat": 4,
 "nbformat_minor": 2
}
