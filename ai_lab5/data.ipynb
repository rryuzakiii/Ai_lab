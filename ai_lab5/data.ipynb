{
 "cells": [
  {
   "cell_type": "code",
   "execution_count": null,
   "metadata": {},
   "outputs": [],
   "source": [
    "import pandas as pd\n",
    "\n",
    "# Load stock data (replace with your file)\n",
    "df = pd.read_csv(\"AAPL.csv\", index_col=\"Date\", parse_dates=True)\n",
    "\n",
    "# Display dataset summary\n",
    "print(\"🔹 Dataset Overview:\\n\", df.info())\n",
    "\n",
    "print (\"***********************************\")\n",
    "\n",
    "# Display first few rows\n",
    "print(\"\\n🔹 Data Head:\\n\", df.head())\n",
    "print (\"***********************************\")\n",
    "# Check for missing values\n",
    "print(\"\\n🔹 Missing Values:\\n\", df.isnull().sum())\n"
   ]
  },
  {
   "cell_type": "code",
   "execution_count": null,
   "metadata": {},
   "outputs": [],
   "source": [
    "# Drop rows with missing values\n",
    "df.dropna(inplace=True)\n",
    "\n",
    "# OR Fill missing values using forward-fill (last known value)\n",
    "df.fillna(method='ffill', inplace=True)\n",
    "\n",
    "# Check again for missing values\n",
    "print(\"\\n🔹 Missing Values After Cleaning:\\n\", df.isnull().sum())\n"
   ]
  },
  {
   "cell_type": "code",
   "execution_count": null,
   "metadata": {},
   "outputs": [],
   "source": [
    "import numpy as np\n",
    "\n",
    "def remove_outliers(df, column):\n",
    "    Q1 = df[column].quantile(0.25)\n",
    "    Q3 = df[column].quantile(0.75)\n",
    "    IQR = Q3 - Q1\n",
    "    lower_bound = Q1 - (1.5 * IQR)\n",
    "    upper_bound = Q3 + (1.5 * IQR)\n",
    "    \n",
    "    return df[(df[column] >= lower_bound) & (df[column] <= upper_bound)]\n",
    "\n",
    "# Apply to key columns\n",
    "df = remove_outliers(df, \"Close\")\n",
    "df = remove_outliers(df, \"Volume\")\n"
   ]
  },
  {
   "cell_type": "code",
   "execution_count": null,
   "metadata": {},
   "outputs": [],
   "source": [
    "diff_close_series = df['Close'].diff().dropna()"
   ]
  },
  {
   "cell_type": "code",
   "execution_count": null,
   "metadata": {},
   "outputs": [],
   "source": [
    "# Create lagged features from differences\n",
    "lagged_data = pd.concat(\n",
    "    [diff_close_series.shift(i) for i in range(2, -1, -1)],\n",
    "    axis=1\n",
    ").dropna()\n",
    "lagged_data.columns = [f'lag_{i}' for i in range(2, -1, -1)]"
   ]
  },
  {
   "cell_type": "code",
   "execution_count": null,
   "metadata": {},
   "outputs": [],
   "source": [
    "# Split into 50% train and 50% test\n",
    "split_idx = int(len(lagged_data) * 0.8)\n",
    "train_data = lagged_data.iloc[:split_idx]\n",
    "test_data = lagged_data.iloc[split_idx:]"
   ]
  },
  {
   "cell_type": "code",
   "execution_count": null,
   "metadata": {},
   "outputs": [],
   "source": [
    "X_train = train_data.iloc[:, 1:].values\n",
    "y_train = train_data.iloc[:, 0].values\n",
    "X_test = test_data.iloc[:, 1:].values\n",
    "y_test = test_data.iloc[:, 0].values"
   ]
  },
  {
   "cell_type": "code",
   "execution_count": null,
   "metadata": {},
   "outputs": [],
   "source": [
    "from sklearn.preprocessing import StandardScaler\n",
    "\n",
    "scaler_X = StandardScaler()\n",
    "scaler_y = StandardScaler()\n",
    "X_train_scaled = scaler_X.fit_transform(X_train)\n",
    "X_test_scaled = scaler_X.transform(X_test)\n",
    "y_train_scaled = scaler_y.fit_transform(y_train.reshape(-1, 1))\n",
    "y_test_scaled = scaler_y.transform(y_test.reshape(-1, 1))"
   ]
  },
  {
   "cell_type": "code",
   "execution_count": null,
   "metadata": {},
   "outputs": [],
   "source": [
    "X_train_reshaped = X_train_scaled.reshape((X_train_scaled.shape[0], X_train_scaled.shape[1], 1))\n",
    "X_test_reshaped = X_test_scaled.reshape((X_test_scaled.shape[0], X_test_scaled.shape[1], 1))"
   ]
  },
  {
   "cell_type": "code",
   "execution_count": null,
   "metadata": {},
   "outputs": [],
   "source": [
    "from tensorflow.keras.models import Sequential\n",
    "from tensorflow.keras.layers import LSTM, Dense, LeakyReLU, Input ,GRU \n",
    "from tensorflow.keras.optimizers import Adagrad ,Adadelta ,Adam"
   ]
  },
  {
   "cell_type": "code",
   "execution_count": null,
   "metadata": {},
   "outputs": [],
   "source": [
    "# Define and compile the GRU model\n",
    "model = Sequential()\n",
    "model.add(Input(shape=(X_train_reshaped.shape[1], 1)))  # Explicit input layer\n",
    "model.add(GRU(50, return_sequences=False))  # GRU instead of LSTM\n",
    "model.add(LeakyReLU(negative_slope=0.01))\n",
    "model.add(Dense(1))\n",
    "model.compile(optimizer=Adam(learning_rate=0.001), loss='mse')"
   ]
  },
  {
   "cell_type": "code",
   "execution_count": null,
   "metadata": {},
   "outputs": [],
   "source": [
    "model.fit(X_train_reshaped, y_train_scaled, epochs=200, batch_size=16, verbose=1)\n"
   ]
  },
  {
   "cell_type": "code",
   "execution_count": null,
   "metadata": {},
   "outputs": [],
   "source": [
    "from sklearn.metrics import mean_squared_error, r2_score\n",
    "\n",
    "y_train_pred_scaled = model.predict(X_train)\n",
    "y_test_pred_scaled = model.predict(X_test)\n",
    "\n",
    "# Inverse transform predictions\n",
    "y_train_pred = scaler_y.inverse_transform(y_train_pred_scaled)\n",
    "y_test_pred = scaler_y.inverse_transform(y_test_pred_scaled)\n",
    "\n",
    "# Evaluate performance\n",
    "mse_train = mean_squared_error(y_train, y_train_pred)\n",
    "r2_train = r2_score(y_train, y_train_pred)\n",
    "mse_test = mean_squared_error(y_test, y_test_pred)\n",
    "r2_test = r2_score(y_test, y_test_pred)"
   ]
  },
  {
   "cell_type": "code",
   "execution_count": null,
   "metadata": {},
   "outputs": [],
   "source": [
    "print(f\"Train MSE: {mse_train:.6f}\")\n",
    "print(f\"Train R2: {r2_train:.6f}\")\n",
    "print(f\"Test MSE: {mse_test:.6f}\")\n",
    "print(f\"Test R2: {r2_test:.6f}\")"
   ]
  },
  {
   "cell_type": "code",
   "execution_count": null,
   "metadata": {},
   "outputs": [],
   "source": [
    "import matplotlib.pyplot as plt\n",
    "\n",
    "plt.figure(figsize=(12, 6))\n",
    "plt.plot(y_test, label='Actual Differences (Test)')\n",
    "plt.plot(y_test_pred, label='Predicted Differences (Test)')\n",
    "plt.title(\"Close Price Differences: Actual vs Predicted (Test Set) with LeakyReLU\")\n",
    "plt.legend()\n",
    "plt.show()"
   ]
  }
 ],
 "metadata": {
  "kernelspec": {
   "display_name": "VENV",
   "language": "python",
   "name": "python3"
  },
  "language_info": {
   "codemirror_mode": {
    "name": "ipython",
    "version": 3
   },
   "file_extension": ".py",
   "mimetype": "text/x-python",
   "name": "python",
   "nbconvert_exporter": "python",
   "pygments_lexer": "ipython3",
   "version": "3.12.3"
  }
 },
 "nbformat": 4,
 "nbformat_minor": 2
}
