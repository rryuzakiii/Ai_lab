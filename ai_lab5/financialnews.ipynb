{
 "cells": [
  {
   "cell_type": "code",
   "execution_count": 19,
   "metadata": {},
   "outputs": [
    {
     "name": "stdout",
     "output_type": "stream",
     "text": [
      "🔍 Fetching news for AAPL from https://finance.yahoo.com/quote/AAPL/news/\n",
      "🔍 Fetching news for MSFT from https://finance.yahoo.com/quote/MSFT/news/\n",
      "🔍 Fetching news for GOOGL from https://finance.yahoo.com/quote/GOOGL/news/\n",
      "🔍 Fetching news for ^GSPC from https://finance.yahoo.com/quote/^GSPC/news/\n",
      "🔍 Fetching news for NVDA from https://finance.yahoo.com/quote/NVDA/news/\n",
      "🔍 Fetching news for TSLA from https://finance.yahoo.com/quote/TSLA/news/\n",
      "🔍 Fetching news for PLTR from https://finance.yahoo.com/quote/PLTR/news/\n",
      "🔍 Fetching news for LCID from https://finance.yahoo.com/quote/LCID/news/\n",
      "🔍 Fetching news for AAL from https://finance.yahoo.com/quote/AAL/news/\n",
      "🔍 Fetching news for SOFI from https://finance.yahoo.com/quote/SOFI/news/\n",
      " All stock news saved in news.csv\n"
     ]
    }
   ],
   "source": [
    "import requests\n",
    "import csv\n",
    "from bs4 import BeautifulSoup\n",
    "\n",
    "# Read stock symbols from stocks.txt\n",
    "with open(\"stocks.txt\", \"r\") as file:\n",
    "    stock_symbols = [line.strip() for line in file.readlines()]\n",
    "\n",
    "# Define headers to mimic a real browser\n",
    "headers = {\n",
    "    \"User-Agent\": \"Mozilla/5.0 (X11; Ubuntu; Linux x86_64; rv:109.0) Gecko/20100101 Firefox/109.0\"\n",
    "}\n",
    "\n",
    "# Excluded categories\n",
    "exclude_keywords = [\"Life\", \"Entertainment\", \"Finance\", \"Sports\", \"New on Yahoo\"]\n",
    "\n",
    "# Prepare list for storing news\n",
    "all_news = []\n",
    "\n",
    "for ticker in stock_symbols:\n",
    "    url = f\"https://finance.yahoo.com/quote/{ticker}/news/\"\n",
    "    print(f\"🔍 Fetching news for {ticker} from {url}\")\n",
    "\n",
    "    response = requests.get(url, headers=headers)\n",
    "\n",
    "    if response.status_code == 200:\n",
    "        soup = BeautifulSoup(response.content, \"html.parser\")\n",
    "        \n",
    "        # Find all news headlines\n",
    "        headlines = soup.find_all(\"h3\")\n",
    "\n",
    "        for h in headlines:\n",
    "            headline_text = h.get_text(strip=True)\n",
    "\n",
    "            # Filter out unwanted categories\n",
    "            if not any(keyword in headline_text for keyword in exclude_keywords):\n",
    "                all_news.append([ticker, headline_text])\n",
    "\n",
    "    else:\n",
    "        print(f\" Failed to fetch  {ticker}. Status code:\", response.status_code)\n",
    "\n",
    "# Save to CSV\n",
    "filename = \"news.csv\"\n",
    "with open(filename, \"w\", newline=\"\", encoding=\"utf-8\") as file:\n",
    "    writer = csv.writer(file)\n",
    "    writer.writerow([\"Ticker\", \"Headline\"])  # Write header\n",
    "    writer.writerows(all_news)\n",
    "\n",
    "print(f\" All stock news saved in {filename}\")\n"
   ]
  },
  {
   "cell_type": "code",
   "execution_count": 20,
   "metadata": {},
   "outputs": [
    {
     "name": "stdout",
     "output_type": "stream",
     "text": [
      " Sentiment analysis saved in 'sentiment.csv' in a clean table format!\n"
     ]
    }
   ],
   "source": [
    "import pandas as pd\n",
    "from vaderSentiment.vaderSentiment import SentimentIntensityAnalyzer\n",
    "\n",
    "# Step 1: Read the scraped news from news.csv\n",
    "df = pd.read_csv(\"news.csv\")\n",
    "\n",
    "# Step 2: Initialize sentiment analyzer\n",
    "analyzer = SentimentIntensityAnalyzer()\n",
    "\n",
    "# Step 3: Process sentiment analysis\n",
    "sentiment_results = []\n",
    "\n",
    "for _, row in df.iterrows():\n",
    "    ticker = row[\"Ticker\"]\n",
    "    headline = str(row[\"Headline\"]).strip()\n",
    "\n",
    "    if headline.lower() == \"nan\" or headline == \"\":  \n",
    "        continue  \n",
    "\n",
    "    sentiment_score = analyzer.polarity_scores(headline)[\"compound\"]\n",
    "    sentiment_label = (\n",
    "        \"Positive\" if sentiment_score > 0 else \n",
    "        \"Negative\" if sentiment_score < 0 else \n",
    "        \"Neutral\"\n",
    "    )\n",
    "    \n",
    "    sentiment_results.append([ticker, sentiment_score, sentiment_label])\n",
    "\n",
    "# Step 4: Save results to sentiment.csv\n",
    "sentiment_df = pd.DataFrame(sentiment_results, columns=[\"Ticker/Headline\", \"Sentiment Score\", \"Sentiment\"])\n",
    "sentiment_df.to_csv(\"sentiment.csv\", index=False)\n",
    "\n",
    "print(\" Sentiment analysis saved in 'sentiment.csv' in a clean table format!\")\n"
   ]
  },
  {
   "cell_type": "code",
   "execution_count": null,
   "metadata": {},
   "outputs": [],
   "source": []
  }
 ],
 "metadata": {
  "kernelspec": {
   "display_name": "VENV",
   "language": "python",
   "name": "python3"
  },
  "language_info": {
   "codemirror_mode": {
    "name": "ipython",
    "version": 3
   },
   "file_extension": ".py",
   "mimetype": "text/x-python",
   "name": "python",
   "nbconvert_exporter": "python",
   "pygments_lexer": "ipython3",
   "version": "3.12.3"
  }
 },
 "nbformat": 4,
 "nbformat_minor": 2
}
