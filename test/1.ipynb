{
 "cells": [
  {
   "cell_type": "code",
   "execution_count": 58,
   "metadata": {},
   "outputs": [],
   "source": [
    "class Queue_t:\n",
    "    def __init__(self):\n",
    "        self.arr = []\n",
    "\n",
    "    def enqueue(self, item):\n",
    "        self.arr.append(item)\n",
    "\n",
    "    def dequeue(self):\n",
    "        \n",
    "        if not len(self.arr) > 0:\n",
    "            print(\"queue is empty!\")\n",
    "            return\n",
    "        item = self.arr[0]\n",
    "        self.arr = self.arr[1:]\n",
    "        return item"
   ]
  },
  {
   "cell_type": "code",
   "execution_count": 59,
   "metadata": {},
   "outputs": [],
   "source": [
    "queue = Queue_t()\n",
    "\n",
    "queue.enqueue(\"cat\");\n"
   ]
  },
  {
   "cell_type": "code",
   "execution_count": 60,
   "metadata": {},
   "outputs": [],
   "source": [
    "queue.enqueue(6)\n",
    "queue.enqueue(5)\n",
    "queue.enqueue(1)\n",
    "queue.enqueue(4)"
   ]
  },
  {
   "cell_type": "code",
   "execution_count": 62,
   "metadata": {},
   "outputs": [
    {
     "data": {
      "text/plain": [
       "6"
      ]
     },
     "execution_count": 62,
     "metadata": {},
     "output_type": "execute_result"
    }
   ],
   "source": [
    "queue.dequeue()"
   ]
  },
  {
   "cell_type": "code",
   "execution_count": 97,
   "metadata": {},
   "outputs": [],
   "source": [
    "class stack_t:\n",
    "    def __init__(self):\n",
    "        self.arr = []\n",
    "\n",
    "    def push(self ,item ):\n",
    "        self.arr.append(item)\n",
    "    \n",
    "    def pop(self):\n",
    "        if not len(self.arr) > 0:\n",
    "            print(\"stack is empty!\")\n",
    "            return\n",
    "        item =self.arr[0]\n",
    "\n",
    "        return self.arr.pop() \n",
    "        "
   ]
  },
  {
   "cell_type": "code",
   "execution_count": 98,
   "metadata": {},
   "outputs": [],
   "source": [
    "stack = stack_t()\n",
    "\n",
    "stack.push(1)\n",
    "stack.push(7)\n",
    "stack.push(6)\n",
    "stack.push(3)\n",
    "stack.push(2)"
   ]
  },
  {
   "cell_type": "code",
   "execution_count": 104,
   "metadata": {},
   "outputs": [
    {
     "name": "stdout",
     "output_type": "stream",
     "text": [
      "stack is empty!\n"
     ]
    }
   ],
   "source": [
    "stack.pop()"
   ]
  },
  {
   "cell_type": "code",
   "execution_count": 1,
   "metadata": {},
   "outputs": [],
   "source": [
    "class BFS:\n",
    "    def __init__(self):\n",
    "        self.visited = []  \n",
    "        self.queue = []    \n",
    "\n",
    "    def bfs(self, graph, start_node):\n",
    "        self.visited = []  \n",
    "        self.queue = []    \n",
    "\n",
    "        self.queue.append(start_node)\n",
    "        self.visited.append(start_node)\n",
    "\n",
    "        while self.queue:\n",
    "            current_node = self.queue.pop(0)\n",
    "            print(current_node, end=\" \")  \n",
    "\n",
    "            \n",
    "            for neighbor in graph[current_node]:\n",
    "                if neighbor not in self.visited:\n",
    "                    self.visited.append(neighbor)\n",
    "                    self.queue.append(neighbor)\n"
   ]
  },
  {
   "cell_type": "code",
   "execution_count": 2,
   "metadata": {},
   "outputs": [],
   "source": [
    "graph = {\n",
    "    'S': ['A', 'B', 'C'],\n",
    "    'A': ['D'],\n",
    "    'B': ['E'],\n",
    "    'C': ['F', 'J'],\n",
    "    'D': ['G'],\n",
    "    'E': ['I', 'J'],\n",
    "    'F': ['S'],\n",
    "    'J': [],\n",
    "    'G': ['H'],\n",
    "    'I': [],\n",
    "    'H': ['D']\n",
    "}"
   ]
  },
  {
   "cell_type": "code",
   "execution_count": 3,
   "metadata": {},
   "outputs": [
    {
     "name": "stdout",
     "output_type": "stream",
     "text": [
      "S A B C D E F J G I H "
     ]
    }
   ],
   "source": [
    "bfs_instance = BFS()\n",
    "bfs_instance.bfs(graph, 'S')"
   ]
  },
  {
   "cell_type": "code",
   "execution_count": null,
   "metadata": {},
   "outputs": [],
   "source": []
  }
 ],
 "metadata": {
  "kernelspec": {
   "display_name": "VENV",
   "language": "python",
   "name": "python3"
  },
  "language_info": {
   "codemirror_mode": {
    "name": "ipython",
    "version": 3
   },
   "file_extension": ".py",
   "mimetype": "text/x-python",
   "name": "python",
   "nbconvert_exporter": "python",
   "pygments_lexer": "ipython3",
   "version": "3.12.4"
  }
 },
 "nbformat": 4,
 "nbformat_minor": 2
}
