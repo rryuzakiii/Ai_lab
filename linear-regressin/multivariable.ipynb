{
 "cells": [
  {
   "cell_type": "code",
   "execution_count": 43,
   "metadata": {},
   "outputs": [],
   "source": [
    "import numpy as np"
   ]
  },
  {
   "cell_type": "code",
   "execution_count": 44,
   "metadata": {},
   "outputs": [],
   "source": [
    "\n",
    "class Multi:\n",
    "    def __init__(self):\n",
    "        self.a = None\n",
    "\n",
    "    def transpose(self, matrix):\n",
    "        return [[matrix[j][i] for j in range(len(matrix))] for i in range(len(matrix[0]))]\n",
    "\n",
    "    def matrix_mul(self, A, B):\n",
    "        return [[sum(A[i][k] * B[k][j] for k in range(len(B))) for j in range(len(B[0]))] for i in range(len(A))]\n",
    "    def inverse(self, matrix):\n",
    "        return np.linalg.pinv(matrix)\n",
    "\n",
    "    def fit(self, X, Y):\n",
    "        X_cap = [[1] + row for row in X]\n",
    "        X_transpose = self.transpose(X_cap)\n",
    "        XTX = self.matrix_mul(X_transpose, X_cap)\n",
    "        XTY = self.matrix_mul(X_transpose, [[v] for v in Y])\n",
    "        XTX_inv = self.inverse(XTX)\n",
    "        self .a = self.matrix_mul(XTX_inv,XTY)\n",
    "\n",
    "    def perdict(self,X):\n",
    "        "
   ]
  },
  {
   "cell_type": "code",
   "execution_count": 45,
   "metadata": {},
   "outputs": [],
   "source": [
    "X = np.array([\n",
    "    [1, 2, 3],\n",
    "    [4, 5, 6],\n",
    "    [7, 8, 9],\n",
    "    [10, 11, 12]\n",
    "])\n",
    "\n",
    "Y = np.array([14, 32, 50, 68])"
   ]
  },
  {
   "cell_type": "code",
   "execution_count": 46,
   "metadata": {},
   "outputs": [
    {
     "name": "stdout",
     "output_type": "stream",
     "text": [
      "[[np.float64(3.9999999999998863)], [np.float64(2.0000000000000426)], [np.float64(1.1368683772161603e-13)]]\n"
     ]
    }
   ],
   "source": [
    "model = Multi()\n",
    "model.fit (X,Y)\n",
    "print (model.a)"
   ]
  }
 ],
 "metadata": {
  "kernelspec": {
   "display_name": "VENV",
   "language": "python",
   "name": "python3"
  },
  "language_info": {
   "codemirror_mode": {
    "name": "ipython",
    "version": 3
   },
   "file_extension": ".py",
   "mimetype": "text/x-python",
   "name": "python",
   "nbconvert_exporter": "python",
   "pygments_lexer": "ipython3",
   "version": "3.12.4"
  }
 },
 "nbformat": 4,
 "nbformat_minor": 2
}
