{
 "cells": [
  {
   "cell_type": "code",
   "execution_count": 18,
   "metadata": {},
   "outputs": [],
   "source": [
    "import numpy as np"
   ]
  },
  {
   "cell_type": "code",
   "execution_count": 43,
   "metadata": {},
   "outputs": [],
   "source": [
    "class Linear:\n",
    "    def __init__(self,learning_rate):\n",
    "        self.m1 = 0\n",
    "        self.m2 =0\n",
    "        self.b = 0\n",
    "        self.alpha = learning_rate\n",
    "\n",
    "    def mse(self ,y_predict,yreal):\n",
    "        return (1/len(y_real))*np.sum((y_predict - y_real)**2)\n",
    "    \n",
    "    def predict(self,x_1,x_2):\n",
    "        return self.m1 *x_1+ self.m2*x_2 +self.b\n",
    "    \n",
    "\n",
    "    def partial(self,x_1,x_2,y):\n",
    "        y_pred = self.predict(x_1,x_2)\n",
    "        dm=(2/len(y))*np.sum((y_pred-y)*x_1)\n",
    "        db=(2/len(y))*np.sum((y_pred-y)*1)\n",
    "        dm2=(2/len(y))*np.sum((y_pred-y)*x_2)\n",
    "        return dm,dm2,db\n",
    "    \n",
    "    def fit (self,x_1,x_2,y ):\n",
    "        for _ in range (10000):\n",
    "            dm,dm2,db = self.partial(x_1,x_2,y)\n",
    "            self.m1 -= self.alpha * dm\n",
    "            self.m2 -= self.alpha *dm2\n",
    "            self.b -= self.alpha *db\n",
    "            \n"
   ]
  },
  {
   "cell_type": "code",
   "execution_count": 48,
   "metadata": {},
   "outputs": [],
   "source": [
    "x_1 = np.array([1,2,3,4,5,6,7])\n",
    "x_2 =np.array([2,4,6,8,10,12,14])\n",
    "y = 2*x_1+3*x_2 +11\n"
   ]
  },
  {
   "cell_type": "code",
   "execution_count": 49,
   "metadata": {},
   "outputs": [],
   "source": [
    "model = Linear(learning_rate=0.008)\n",
    "model.fit(x_1,x_2,y)"
   ]
  },
  {
   "cell_type": "code",
   "execution_count": 51,
   "metadata": {},
   "outputs": [
    {
     "data": {
      "text/plain": [
       "np.float64(49.39999999999999)"
      ]
     },
     "execution_count": 51,
     "metadata": {},
     "output_type": "execute_result"
    }
   ],
   "source": [
    "model.predict(8,8)"
   ]
  },
  {
   "cell_type": "code",
   "execution_count": null,
   "metadata": {},
   "outputs": [],
   "source": []
  }
 ],
 "metadata": {
  "kernelspec": {
   "display_name": "VENV",
   "language": "python",
   "name": "python3"
  },
  "language_info": {
   "codemirror_mode": {
    "name": "ipython",
    "version": 3
   },
   "file_extension": ".py",
   "mimetype": "text/x-python",
   "name": "python",
   "nbconvert_exporter": "python",
   "pygments_lexer": "ipython3",
   "version": "3.12.4"
  }
 },
 "nbformat": 4,
 "nbformat_minor": 2
}
