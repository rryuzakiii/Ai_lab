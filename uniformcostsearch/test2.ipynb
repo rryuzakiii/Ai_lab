{
 "cells": [
  {
   "cell_type": "code",
   "execution_count": 3,
   "metadata": {},
   "outputs": [],
   "source": [
    "import heapq  \n"
   ]
  },
  {
   "cell_type": "code",
   "execution_count": 4,
   "metadata": {},
   "outputs": [],
   "source": [
    "def uniform_cost_search(graph, cost, start, goal):\n",
    "    \"\"\"\n",
    "    Perform Uniform Cost Search (UCS) to find the least-cost path.\n",
    "    \n",
    "    \"\"\"\n",
    "    priority_queue = []\n",
    "    heapq.heappush(priority_queue, (0, start, [start]))  \n",
    "\n",
    "    visited = set()\n",
    "\n",
    "    while priority_queue:\n",
    "        current_cost, current_node, path = heapq.heappop(priority_queue)\n",
    "\n",
    "        if current_node == goal:\n",
    "            return current_cost, path\n",
    "\n",
    "        if current_node in visited:\n",
    "            continue\n",
    "        visited.add(current_node)\n",
    "\n",
    "        for neighbor in graph.get(current_node, []):\n",
    "            if neighbor not in visited:\n",
    "                edge_cost = cost[(current_node, neighbor)]\n",
    "                heapq.heappush(priority_queue, (current_cost + edge_cost, neighbor, path + [neighbor]))\n",
    "\n",
    "    return float('inf'), []"
   ]
  },
  {
   "cell_type": "code",
   "execution_count": 8,
   "metadata": {},
   "outputs": [
    {
     "name": "stdout",
     "output_type": "stream",
     "text": [
      "Minimum cost from A to D is 2\n",
      "Path: A -> B -> D\n"
     ]
    }
   ],
   "source": [
    "if __name__ == \"__main__\":\n",
    "    \n",
    "    graph = {\n",
    "        'A': ['B', 'C'],\n",
    "        'B': ['D'],\n",
    "        'C': ['D', 'E'],\n",
    "        'D': ['E'],\n",
    "        'E': []\n",
    "    }\n",
    "\n",
    "    cost = {\n",
    "        ('A', 'B'): 1,\n",
    "        ('A', 'C'): 3,\n",
    "        ('B', 'D'): 1,\n",
    "        ('C', 'D'): 1,\n",
    "        ('C', 'E'): 4,\n",
    "        ('D', 'E'): 1\n",
    "    }\n",
    "\n",
    "    start = 'A'\n",
    "    goal = 'D'\n",
    "\n",
    "    min_cost, path = uniform_cost_search(graph, cost, start, goal)\n",
    "    if min_cost < float('inf'):\n",
    "        print(f\"Minimum cost from {start} to {goal} is {min_cost}\")\n",
    "        print(f\"Path: {' -> '.join(path)}\")\n",
    "    else:\n",
    "        print(f\"No path exists from {start} to {goal}\")\n",
    "\n",
    "    \n"
   ]
  }
 ],
 "metadata": {
  "kernelspec": {
   "display_name": "VENV",
   "language": "python",
   "name": "python3"
  },
  "language_info": {
   "codemirror_mode": {
    "name": "ipython",
    "version": 3
   },
   "file_extension": ".py",
   "mimetype": "text/x-python",
   "name": "python",
   "nbconvert_exporter": "python",
   "pygments_lexer": "ipython3",
   "version": "3.12.4"
  }
 },
 "nbformat": 4,
 "nbformat_minor": 2
}
