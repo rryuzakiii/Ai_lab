{
 "cells": [
  {
   "cell_type": "code",
   "execution_count": 39,
   "metadata": {},
   "outputs": [],
   "source": [
    "from sklearn.datasets import load_iris\n",
    "import pandas as pd\n",
    "from sklearn.tree import DecisionTreeClassifier\n",
    "from sklearn.model_selection import train_test_split\n",
    "from sklearn.metrics import accuracy_score\n",
    "import random"
   ]
  },
  {
   "cell_type": "code",
   "execution_count": 40,
   "metadata": {},
   "outputs": [
    {
     "name": "stdout",
     "output_type": "stream",
     "text": [
      "   sepal length (cm)  sepal width (cm)  petal length (cm)  petal width (cm)\n",
      "0                5.1               3.5                1.4               0.2\n",
      "1                4.9               3.0                1.4               0.2\n",
      "2                4.7               3.2                1.3               0.2\n",
      "3                4.6               3.1                1.5               0.2\n",
      "4                5.0               3.6                1.4               0.2\n"
     ]
    }
   ],
   "source": [
    "data = load_iris()\n",
    "X = pd.DataFrame(data.data, columns=data.feature_names)  \n",
    "y = pd.Series(data.target)\n",
    "print(X.head())"
   ]
  },
  {
   "cell_type": "code",
   "execution_count": 41,
   "metadata": {},
   "outputs": [],
   "source": [
    "\n",
    "def evaluate_feature_subset(X_subset, y):\n",
    "    X_train, X_test, y_train, y_test = train_test_split(X_subset, y, test_size=0.3, random_state=42)\n",
    "    \n",
    "    model = DecisionTreeClassifier(random_state=42)\n",
    "    model.fit(X_train, y_train)\n",
    "    \n",
    "    y_pred = model.predict(X_test)\n",
    "    return accuracy_score(y_test, y_pred)"
   ]
  },
  {
   "cell_type": "code",
   "execution_count": 42,
   "metadata": {},
   "outputs": [],
   "source": [
    "\n",
    "def generate_initial_subset(features):\n",
    "    return random.sample(features, k=len(features) // 2)"
   ]
  },
  {
   "cell_type": "code",
   "execution_count": 43,
   "metadata": {},
   "outputs": [],
   "source": [
    "def generate_neighbors(current_subset, all_features):\n",
    "    neighbors = []\n",
    "    for feature in all_features:\n",
    "        if feature not in current_subset:\n",
    "            neighbors.append(current_subset + [feature])\n",
    "    for feature in current_subset:\n",
    "        new_subset = current_subset.copy()\n",
    "        new_subset.remove(feature)\n",
    "        neighbors.append(new_subset)\n",
    "    return neighbors"
   ]
  },
  {
   "cell_type": "code",
   "execution_count": 44,
   "metadata": {},
   "outputs": [],
   "source": [
    "def hill_climbing_feature_selection(X, y, max_iterations=100):\n",
    "    all_features = X.columns.tolist()\n",
    "    current_subset = generate_initial_subset(all_features)\n",
    "    current_score = evaluate_feature_subset(X[current_subset], y)\n",
    "    \n",
    "    for _ in range(max_iterations):\n",
    "        neighbors = generate_neighbors(current_subset, all_features)\n",
    "        best_neighbor = None\n",
    "        best_score = current_score\n",
    "        \n",
    "        for neighbor in neighbors:\n",
    "            neighbor_score = evaluate_feature_subset(X[neighbor], y)\n",
    "            if neighbor_score > best_score:\n",
    "                best_neighbor = neighbor\n",
    "                best_score = neighbor_score\n",
    "        \n",
    "        if best_neighbor is None:\n",
    "            break  \n",
    "        \n",
    "        current_subset = best_neighbor\n",
    "        current_score = best_score\n",
    "    \n",
    "    return current_subset, current_score"
   ]
  },
  {
   "cell_type": "code",
   "execution_count": 45,
   "metadata": {},
   "outputs": [
    {
     "name": "stdout",
     "output_type": "stream",
     "text": [
      "Best feature subset: ['petal length (cm)', 'sepal length (cm)', 'petal width (cm)']\n",
      "Accuracy with best subset: 1.0\n",
      "Accuracy with all features: 1.0\n"
     ]
    }
   ],
   "source": [
    "best_subset, best_score = hill_climbing_feature_selection(X, y)\n",
    "\n",
    "full_score = evaluate_feature_subset(X, y)\n",
    "\n",
    "print(\"Best feature subset:\", best_subset)\n",
    "print(\"Accuracy with best subset:\", best_score)\n",
    "print(\"Accuracy with all features:\", full_score)"
   ]
  }
 ],
 "metadata": {
  "kernelspec": {
   "display_name": "VENV",
   "language": "python",
   "name": "python3"
  },
  "language_info": {
   "codemirror_mode": {
    "name": "ipython",
    "version": 3
   },
   "file_extension": ".py",
   "mimetype": "text/x-python",
   "name": "python",
   "nbconvert_exporter": "python",
   "pygments_lexer": "ipython3",
   "version": "3.12.3"
  }
 },
 "nbformat": 4,
 "nbformat_minor": 2
}
