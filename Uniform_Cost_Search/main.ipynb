{
 "cells": [
  {
   "cell_type": "code",
   "execution_count": 6,
   "id": "f7607746-9a7f-40c3-a284-f79610f4b2ad",
   "metadata": {},
   "outputs": [
    {
     "ename": "ModuleNotFoundError",
     "evalue": "No module named 'networkx'",
     "output_type": "error",
     "traceback": [
      "\u001b[0;31m---------------------------------------------------------------------------\u001b[0m",
      "\u001b[0;31mModuleNotFoundError\u001b[0m                       Traceback (most recent call last)",
      "Cell \u001b[0;32mIn[6], line 1\u001b[0m\n\u001b[0;32m----> 1\u001b[0m \u001b[38;5;28;01mimport\u001b[39;00m \u001b[38;5;21;01mnetworkx\u001b[39;00m \u001b[38;5;28;01mas\u001b[39;00m \u001b[38;5;21;01mnx\u001b[39;00m\n\u001b[1;32m      2\u001b[0m \u001b[38;5;28;01mimport\u001b[39;00m \u001b[38;5;21;01mmatplotlib\u001b[39;00m\u001b[38;5;21;01m.\u001b[39;00m\u001b[38;5;21;01mpyplot\u001b[39;00m \u001b[38;5;28;01mas\u001b[39;00m \u001b[38;5;21;01mplt\u001b[39;00m\n\u001b[1;32m      3\u001b[0m \u001b[38;5;28;01mimport\u001b[39;00m \u001b[38;5;21;01mheapq\u001b[39;00m\n",
      "\u001b[0;31mModuleNotFoundError\u001b[0m: No module named 'networkx'"
     ]
    }
   ],
   "source": [
    "import networkx as nx\n",
    "import matplotlib.pyplot as plt\n",
    "import heapq\n",
    "\n",
    "def draw_graph(graph):\n",
    "    G=nx.DiGraph()\n",
    "    for node, neighbors in graph.items():\n",
    "        for neighbor, cost in neighbors:\n",
    "            G.add_edge(node, neighbor, weight =cost)\n",
    "    pos = nx.spring_layout(G)\n",
    "    edge_labels = nx.get_edge_attributes(G, 'weight')\n",
    "    plt.figure(figsize = (8,6))\n",
    "    nx.draw(G,pos,with_labels = True, node_size=2000, node_color = 'lightblue', font_size = 12, font_weight='bold')\n",
    "    nx.draw_networkx_edge_labels(G, pos, edge_labels = edge_labels, font_size =10)\n",
    "    plt.title(\"Graph Representation\", fontsize=16)\n",
    "    plt.show()"
   ]
  },
  {
   "cell_type": "code",
   "execution_count": 7,
   "id": "882e778a-f112-4ed3-9b39-d87d216afc82",
   "metadata": {},
   "outputs": [],
   "source": [
    "def UCS(graph, start, goal):\n",
    "    pq = []\n",
    "    heapq.heappush(pq, (0,start))\n",
    "    visited =set()\n",
    "    parent = {start: None}\n",
    "\n",
    "    while pq:\n",
    "        cost, node = heapq.heappop(pq)\n",
    "        if node in visited:\n",
    "            continue\n",
    "        visited.add(node)\n",
    "\n",
    "        if node == goal:\n",
    "            path=[]\n",
    "            while node:\n",
    "                path.append(node)\n",
    "                node = parent[node]\n",
    "            return path[::-1], cost\n",
    "\n",
    "        for neighbor, weight in graph[node]:\n",
    "            if neighbor not in visited:\n",
    "                heapq.heappush(pq, (cost + weight, neighbor))\n",
    "                parent[neighbor] = node\n",
    "\n",
    "    return None, float(\"inf\")"
   ]
  },
  {
   "cell_type": "code",
   "execution_count": 8,
   "id": "8b78fd5e-071e-4fa0-9324-53ecda653d45",
   "metadata": {},
   "outputs": [],
   "source": [
    "def A_star(graph, start, goal, heuristic):\n",
    "    pq = []\n",
    "    heapq.heappush(pq, (0, start))\n",
    "    visited = set()\n",
    "    g_cost = {start: 0}\n",
    "    parent = {start : None}\n",
    "    while pq:\n",
    "        f_cost, node = heapq.heappop(pq)\n",
    "        if node in visited:\n",
    "            continue\n",
    "        if node == goal:\n",
    "            path=[]\n",
    "            while node:\n",
    "                path.append(node)\n",
    "                node = parent[node]\n",
    "            return path[::-1], g_cost[goal]\n",
    "        for neighbor, weight in graph[node]:\n",
    "            tentative_g_cost = g_cost[node]+ weight\n",
    "            if neighbor not in g_cost or tentative_g_cost < g_cost[neighbor]:\n",
    "                g_cost[neighbor] = tentative_g_cost\n",
    "                f_cost = tentative_g_cost + heuristic[neighbor]\n",
    "                heapq.heappush(pq, (f_cost, neighbor))\n",
    "                parent[neighbor] =node\n",
    "    return None, float(\"inf\")"
   ]
  },
  {
   "cell_type": "code",
   "execution_count": 9,
   "id": "f34ed2ae-315c-4bae-b0af-c5f1b2c4b5db",
   "metadata": {},
   "outputs": [],
   "source": [
    "def get_graph():\n",
    "    graph = {}\n",
    "    num_nodes = int(input(\"Enter the number of nodes: \"))\n",
    "    for _ in range(num_nodes):\n",
    "        node = input(\"Enter the node: \")\n",
    "        neighbors = int(input(f\"Enter the number of neighbors for {node}: \"))\n",
    "        graph[node] = []\n",
    "        for _ in range(neighbors):\n",
    "            neighbor, cost = input(f\"Enter neighbor and cost (Space-separated) for {node} :\").split()\n",
    "            graph[node].append((neighbor, int(cost)))\n",
    "\n",
    "    return graph\n",
    "\n",
    "def heuristic_graph(graph):\n",
    "    heuristic = {}\n",
    "    print(\"\\nEnter heuristic valuess for A* (0 for the goal node): \")\n",
    "    for node in graph:\n",
    "        heuristic[node] = int(input(f\"Enter heuristic for {node}: \"))\n",
    "    return heuristic"
   ]
  },
  {
   "cell_type": "code",
   "execution_count": 10,
   "id": "92a32a40-6c21-4599-a581-6a9ac55c0c3a",
   "metadata": {},
   "outputs": [
    {
     "ename": "ValueError",
     "evalue": "invalid literal for int() with base 10: ''",
     "output_type": "error",
     "traceback": [
      "\u001b[0;31m---------------------------------------------------------------------------\u001b[0m",
      "\u001b[0;31mValueError\u001b[0m                                Traceback (most recent call last)",
      "Cell \u001b[0;32mIn[10], line 1\u001b[0m\n\u001b[0;32m----> 1\u001b[0m graph \u001b[38;5;241m=\u001b[39m \u001b[43mget_graph\u001b[49m\u001b[43m(\u001b[49m\u001b[43m)\u001b[49m\n\u001b[1;32m      2\u001b[0m start \u001b[38;5;241m=\u001b[39m \u001b[38;5;28minput\u001b[39m(\u001b[38;5;124m\"\u001b[39m\u001b[38;5;130;01m\\n\u001b[39;00m\u001b[38;5;124mEnter the start node: \u001b[39m\u001b[38;5;124m\"\u001b[39m)\n\u001b[1;32m      3\u001b[0m goal \u001b[38;5;241m=\u001b[39m \u001b[38;5;28minput\u001b[39m(\u001b[38;5;124m\"\u001b[39m\u001b[38;5;130;01m\\n\u001b[39;00m\u001b[38;5;124mEnter the goal node: \u001b[39m\u001b[38;5;124m\"\u001b[39m)\n",
      "Cell \u001b[0;32mIn[9], line 3\u001b[0m, in \u001b[0;36mget_graph\u001b[0;34m()\u001b[0m\n\u001b[1;32m      1\u001b[0m \u001b[38;5;28;01mdef\u001b[39;00m \u001b[38;5;21mget_graph\u001b[39m():\n\u001b[1;32m      2\u001b[0m     graph \u001b[38;5;241m=\u001b[39m {}\n\u001b[0;32m----> 3\u001b[0m     num_nodes \u001b[38;5;241m=\u001b[39m \u001b[38;5;28;43mint\u001b[39;49m\u001b[43m(\u001b[49m\u001b[38;5;28;43minput\u001b[39;49m\u001b[43m(\u001b[49m\u001b[38;5;124;43m\"\u001b[39;49m\u001b[38;5;124;43mEnter the number of nodes: \u001b[39;49m\u001b[38;5;124;43m\"\u001b[39;49m\u001b[43m)\u001b[49m\u001b[43m)\u001b[49m\n\u001b[1;32m      4\u001b[0m     \u001b[38;5;28;01mfor\u001b[39;00m _ \u001b[38;5;129;01min\u001b[39;00m \u001b[38;5;28mrange\u001b[39m(num_nodes):\n\u001b[1;32m      5\u001b[0m         node \u001b[38;5;241m=\u001b[39m \u001b[38;5;28minput\u001b[39m(\u001b[38;5;124m\"\u001b[39m\u001b[38;5;124mEnter the node: \u001b[39m\u001b[38;5;124m\"\u001b[39m)\n",
      "\u001b[0;31mValueError\u001b[0m: invalid literal for int() with base 10: ''"
     ]
    }
   ],
   "source": [
    "graph = get_graph()\n",
    "start = input(\"\\nEnter the start node: \")\n",
    "goal = input(\"\\nEnter the goal node: \")\n",
    "heuristic = heuristic_graph(graph)\n",
    "\n",
    "draw_graph(graph)\n",
    "\n",
    "ucs_path , ucs_cost = UCS(graph, start, goal)\n",
    "a_star_path, a_star_cost = A_star(graph, start, goal, heuristic)\n",
    "\n",
    "print(\"\\nUCS Path: \", ucs_path, \"Cost: \",ucs_cost)\n",
    "print(\"\\nA* Path: \", a_star_path, \"Cost: \",a_star_cost)"
   ]
  }
 ],
 "metadata": {
  "kernelspec": {
   "display_name": "VENV",
   "language": "python",
   "name": "python3"
  },
  "language_info": {
   "codemirror_mode": {
    "name": "ipython",
    "version": 3
   },
   "file_extension": ".py",
   "mimetype": "text/x-python",
   "name": "python",
   "nbconvert_exporter": "python",
   "pygments_lexer": "ipython3",
   "version": "3.12.4"
  }
 },
 "nbformat": 4,
 "nbformat_minor": 5
}
